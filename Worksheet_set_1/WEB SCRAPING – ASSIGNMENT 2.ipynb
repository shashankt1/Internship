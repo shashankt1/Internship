{
 "cells": [
  {
   "cell_type": "code",
   "execution_count": null,
   "metadata": {},
   "outputs": [],
   "source": [
    "\n",
    "#11. Write a python program to find the factorial of a number?\n",
    "# factorial of given number\n",
    "a = int(input(\"Enter a number: \")) \n",
    "f = 1 \n",
    "for i in range(1,a+1): \n",
    "       f = f * i \n",
    " \n",
    "print(f'The factorial of the number is {f}') "
   ]
  },
  {
   "cell_type": "code",
   "execution_count": 4,
   "metadata": {},
   "outputs": [
    {
     "name": "stdout",
     "output_type": "stream",
     "text": [
      "101221 is a prime number\n"
     ]
    }
   ],
   "source": [
    "\n",
    "#12.Write a python program to find whether a number is prime or composite.\n",
    "num = 101221\n",
    "\n",
    "# If given number is greater than 1\n",
    "if num > 1:\n",
    "    # Iterate from 2 to n / 2\n",
    "    for i in range(2, int(num/2)+1):\n",
    "        # If num is divisible by any number between\n",
    "        # 2 and n / 2, it is not prime\n",
    "        if (num % i) == 0:\n",
    "            print(num, \"is Composite\")\n",
    "            break\n",
    "    else:\n",
    "        print(num, \"is a prime number\")\n",
    "else:\n",
    "    print(num, \"is Composite\")"
   ]
  },
  {
   "cell_type": "code",
   "execution_count": 3,
   "metadata": {},
   "outputs": [
    {
     "name": "stdout",
     "output_type": "stream",
     "text": [
      "No\n"
     ]
    }
   ],
   "source": [
    "# 13. Write a python program to check whether a given string is palindrome or not.  \n",
    "  \n",
    "def isPalindrome(s):\n",
    "    return s == s[::-1]\n",
    " \n",
    "s = \"Data\"\n",
    "ans = isPalindrome(s)\n",
    " \n",
    "if ans:\n",
    "    print(\"Yes\")\n",
    "else:\n",
    "    print(\"No\")"
   ]
  },
  {
   "cell_type": "code",
   "execution_count": 1,
   "metadata": {},
   "outputs": [
    {
     "name": "stdout",
     "output_type": "stream",
     "text": [
      "12.041594578792296\n"
     ]
    }
   ],
   "source": [
    " #14.Write a Python program to get the third side of right-angled triangle from two given sides.\n",
    "  \n",
    "def findSide3(side1, side2):\n",
    " \n",
    "    side3 = (((side1 * side1) + (side2 * side2))**(1/2));\n",
    "    return side3;\n",
    " \n",
    "\n",
    "side1 = 8;\n",
    "side2 = 9;\n",
    " \n",
    "print(findSide3(side1, side2));"
   ]
  },
  {
   "cell_type": "code",
   "execution_count": 2,
   "metadata": {},
   "outputs": [
    {
     "name": "stdout",
     "output_type": "stream",
     "text": [
      "P: 1, y: 1, t: 1, h: 1, o: 1, n: 2,  : 1, L: 1, a: 2, n: 2, g: 2, u: 1, a: 2, g: 2, e: 1, "
     ]
    }
   ],
   "source": [
    "\n",
    "#15. Write a python program to print the frequency of each of the characters present in a given string.\n",
    "string = \"Python Language\"\n",
    "\n",
    "for i in string:\n",
    "    frequency = string.count(i)\n",
    "    print(str(i) + \": \" + str(frequency), end=\", \")"
   ]
  },
  {
   "cell_type": "code",
   "execution_count": 3,
   "metadata": {},
   "outputs": [
    {
     "name": "stdout",
     "output_type": "stream",
     "text": [
      "List all the header tags :\n",
      "\n",
      "<h1 class=\"firstHeading mw-first-heading\" id=\"firstHeading\" style=\"display: none\"><span class=\"mw-page-title-main\">Main Page</span></h1>\n",
      "\n",
      "<h1><span class=\"mw-headline\" id=\"Welcome_to_Wikipedia\">Welcome to <a href=\"/wiki/Wikipedia\" title=\"Wikipedia\">Wikipedia</a></span></h1>\n",
      "\n",
      "<h2 class=\"mp-h2\" id=\"mp-tfa-h2\"><span id=\"From_today.27s_featured_article\"></span><span class=\"mw-headline\" id=\"From_today's_featured_article\">From today's featured article</span></h2>\n",
      "\n",
      "<h2 class=\"mp-h2\" id=\"mp-dyk-h2\"><span class=\"mw-headline\" id=\"Did_you_know_...\">Did you know ...</span></h2>\n",
      "\n",
      "<h2 class=\"mp-h2\" id=\"mp-itn-h2\"><span class=\"mw-headline\" id=\"In_the_news\">In the news</span></h2>\n",
      "\n",
      "<h2 class=\"mp-h2\" id=\"mp-otd-h2\"><span class=\"mw-headline\" id=\"On_this_day\">On this day</span></h2>\n",
      "\n",
      "<h2 class=\"mp-h2\" id=\"mp-tfp-h2\"><span id=\"Today.27s_featured_picture\"></span><span class=\"mw-headline\" id=\"Today's_featured_picture\">Today's featured picture</span></h2>\n",
      "\n",
      "<h2 class=\"mp-h2\" id=\"mp-other\"><span class=\"mw-headline\" id=\"Other_areas_of_Wikipedia\">Other areas of Wikipedia</span></h2>\n",
      "\n",
      "<h2 class=\"mp-h2\" id=\"mp-sister\"><span id=\"Wikipedia.27s_sister_projects\"></span><span class=\"mw-headline\" id=\"Wikipedia's_sister_projects\">Wikipedia's sister projects</span></h2>\n",
      "\n",
      "<h2 class=\"mp-h2\" id=\"mp-lang\"><span class=\"mw-headline\" id=\"Wikipedia_languages\">Wikipedia languages</span></h2>\n",
      "\n",
      "<h2>Navigation menu</h2>\n",
      "\n",
      "<h3 class=\"vector-menu-heading\" id=\"p-personal-label\">\n",
      "<span class=\"vector-menu-heading-label\">Personal tools</span>\n",
      "</h3>\n",
      "\n",
      "<h3 class=\"vector-menu-heading\" id=\"p-namespaces-label\">\n",
      "<span class=\"vector-menu-heading-label\">Namespaces</span>\n",
      "</h3>\n",
      "\n",
      "<h3 class=\"vector-menu-heading\" id=\"p-views-label\">\n",
      "<span class=\"vector-menu-heading-label\">Views</span>\n",
      "</h3>\n",
      "\n",
      "<h3>\n",
      "<label for=\"searchInput\">Search</label>\n",
      "</h3>\n",
      "\n",
      "<h3 class=\"vector-menu-heading\" id=\"p-navigation-label\">\n",
      "<span class=\"vector-menu-heading-label\">Navigation</span>\n",
      "</h3>\n",
      "\n",
      "<h3 class=\"vector-menu-heading\" id=\"p-interaction-label\">\n",
      "<span class=\"vector-menu-heading-label\">Contribute</span>\n",
      "</h3>\n",
      "\n",
      "<h3 class=\"vector-menu-heading\" id=\"p-tb-label\">\n",
      "<span class=\"vector-menu-heading-label\">Tools</span>\n",
      "</h3>\n",
      "\n",
      "<h3 class=\"vector-menu-heading\" id=\"p-coll-print_export-label\">\n",
      "<span class=\"vector-menu-heading-label\">Print/export</span>\n",
      "</h3>\n",
      "\n",
      "<h3 class=\"vector-menu-heading\" id=\"p-wikibase-otherprojects-label\">\n",
      "<span class=\"vector-menu-heading-label\">In other projects</span>\n",
      "</h3>\n",
      "\n",
      "<h3 class=\"vector-menu-heading\" id=\"p-lang-label\">\n",
      "<span class=\"vector-menu-heading-label\">Languages</span>\n",
      "</h3>\n"
     ]
    }
   ],
   "source": [
    "from urllib.request import urlopen\n",
    "from bs4 import BeautifulSoup\n",
    "html = urlopen('https://en.wikipedia.org/wiki/Main_Page')\n",
    "bs = BeautifulSoup(html, \"html.parser\")\n",
    "titles = bs.find_all(['h1', 'h2','h3','h4','h5','h6'])\n",
    "print('List all the header tags :', *titles, sep='\\n\\n')\n"
   ]
  },
  {
   "cell_type": "code",
   "execution_count": 8,
   "metadata": {},
   "outputs": [
    {
     "name": "stdout",
     "output_type": "stream",
     "text": [
      "1 - The Shawshank Redemption (1994) - Starring: Frank Darabont (dir.), Tim Robbins, Morgan Freeman 9.23490419854416\n",
      "2 - The Godfather (1972) - Starring: Francis Ford Coppola (dir.), Marlon Brando, Al Pacino 9.156241277511095\n",
      "3 - The Dark Knight (2008) - Starring: Christopher Nolan (dir.), Christian Bale, Heath Ledger 8.988647613193642\n",
      "4 - The Godfather Part II (1974) - Starring: Francis Ford Coppola (dir.), Al Pacino, Robert De Niro 8.984217653700467\n",
      "5 - 12 Angry Men (1957) - Starring: Sidney Lumet (dir.), Henry Fonda, Lee J. Cobb 8.95032161179236\n",
      "6 - Schindler's List (1993) - Starring: Steven Spielberg (dir.), Liam Neeson, Ralph Fiennes 8.937423757174491\n",
      "7 - The Lord of the Rings: The Return of the King (2003) - Starring: Peter Jackson (dir.), Elijah Wood, Viggo Mortensen 8.927289928337125\n",
      "8 - Pulp Fiction (1994) - Starring: Quentin Tarantino (dir.), John Travolta, Uma Thurman 8.84870527519616\n",
      "9 - The Lord of the Rings: The Fellowship of the Ring (2001) - Starring: Peter Jackson (dir.), Elijah Wood, Ian McKellen 8.807645438362005\n",
      "1 -  Il buono, il brutto, il cattivo (1966) - Starring: Sergio Leone (dir.), Clint Eastwood, Eli Wallach 8.791419251327289\n",
      "11 - Forrest Gump (1994) - Starring: Robert Zemeckis (dir.), Tom Hanks, Robin Wright 8.767646737460757\n",
      "12 - Fight Club (1999) - Starring: David Fincher (dir.), Brad Pitt, Edward Norton 8.74891345140393\n",
      "13 - Inception (2010) - Starring: Christopher Nolan (dir.), Leonardo DiCaprio, Joseph Gordon-Levitt 8.733253010881523\n",
      "14 - The Lord of the Rings: The Two Towers (2002) - Starring: Peter Jackson (dir.), Elijah Wood, Ian McKellen 8.732660185302047\n",
      "15 - The Empire Strikes Back (1980) - Starring: Irvin Kershner (dir.), Mark Hamill, Harrison Ford 8.700056959021051\n",
      "16 - The Matrix (1999) - Starring: Lana Wachowski (dir.), Keanu Reeves, Laurence Fishburne 8.669829485140854\n",
      "17 - Goodfellas (1990) - Starring: Martin Scorsese (dir.), Robert De Niro, Ray Liotta 8.6520768308006\n",
      "18 - One Flew Over the Cuckoo's Nest (1975) - Starring: Milos Forman (dir.), Jack Nicholson, Louise Fletcher 8.639709877425958\n",
      "19 - Se7en (1995) - Starring: David Fincher (dir.), Morgan Freeman, Brad Pitt 8.60421838266117\n",
      "20 - Shichinin no samurai (1954) - Starring: Akira Kurosawa (dir.), Toshirô Mifune, Takashi Shimura 8.59916704410263\n",
      "21 - It's a Wonderful Life (1946) - Starring: Frank Capra (dir.), James Stewart, Donna Reed 8.595499883041597\n",
      "22 - The Silence of the Lambs (1991) - Starring: Jonathan Demme (dir.), Jodie Foster, Anthony Hopkins 8.588045280575805\n",
      "23 - Cidade de Deus (2002) - Starring: Fernando Meirelles (dir.), Alexandre Rodrigues, Leandro Firmino 8.57965108935952\n",
      "24 - Saving Private Ryan (1998) - Starring: Steven Spielberg (dir.), Tom Hanks, Matt Damon 8.578529245785782\n",
      "25 - La vita è bella (1997) - Starring: Roberto Benigni (dir.), Roberto Benigni, Nicoletta Braschi 8.56728035318941\n",
      "26 - Interstellar (2014) - Starring: Christopher Nolan (dir.), Matthew McConaughey, Anne Hathaway 8.562849717009716\n",
      "27 - The Green Mile (1999) - Starring: Frank Darabont (dir.), Tom Hanks, Michael Clarke Duncan 8.5615679782608\n",
      "28 - Star Wars (1977) - Starring: George Lucas (dir.), Mark Hamill, Harrison Ford 8.55099490324323\n",
      "29 - Terminator 2: Judgment Day (1991) - Starring: James Cameron (dir.), Arnold Schwarzenegger, Linda Hamilton 8.535965079414018\n",
      "30 - Back to the Future (1985) - Starring: Robert Zemeckis (dir.), Michael J. Fox, Christopher Lloyd 8.517606550192015\n",
      "31 - Sen to Chihiro no kamikakushi (2001) - Starring: Hayao Miyazaki (dir.), Daveigh Chase, Suzanne Pleshette 8.515960166627078\n",
      "32 - Psycho (1960) - Starring: Alfred Hitchcock (dir.), Anthony Perkins, Janet Leigh 8.508069935994277\n",
      "33 - The Pianist (2002) - Starring: Roman Polanski (dir.), Adrien Brody, Thomas Kretschmann 8.506121855351378\n",
      "34 - Gisaengchung (2019) - Starring: Bong Joon Ho (dir.), Song Kang-ho, Lee Sun-kyun 8.49758082582179\n",
      "35 - Léon (1994) - Starring: Luc Besson (dir.), Jean Reno, Gary Oldman 8.496802869485942\n",
      "36 - The Lion King (1994) - Starring: Roger Allers (dir.), Matthew Broderick, Jeremy Irons 8.4882732496888\n",
      "37 - Gladiator (2000) - Starring: Ridley Scott (dir.), Russell Crowe, Joaquin Phoenix 8.486106165233611\n",
      "38 - American History X (1998) - Starring: Tony Kaye (dir.), Edward Norton, Edward Furlong 8.4830969983925\n",
      "39 - The Departed (2006) - Starring: Martin Scorsese (dir.), Leonardo DiCaprio, Matt Damon 8.475394360490053\n",
      "40 - The Usual Suspects (1995) - Starring: Bryan Singer (dir.), Kevin Spacey, Gabriel Byrne 8.473075961133848\n",
      "41 - The Prestige (2006) - Starring: Christopher Nolan (dir.), Christian Bale, Hugh Jackman 8.468718957104054\n",
      "42 - Whiplash (2014) - Starring: Damien Chazelle (dir.), Miles Teller, J.K. Simmons 8.464062378922915\n",
      "43 - Casablanca (1942) - Starring: Michael Curtiz (dir.), Humphrey Bogart, Ingrid Bergman 8.463666068205562\n",
      "44 - The Intouchables (2011) - Starring: Olivier Nakache (dir.), François Cluzet, Omar Sy 8.453977841187495\n",
      "45 - Seppuku (1962) - Starring: Masaki Kobayashi (dir.), Tatsuya Nakadai, Akira Ishihama 8.452840322230657\n",
      "46 - Hotaru no haka (1988) - Starring: Isao Takahata (dir.), Tsutomu Tatsumi, Ayano Shiraishi 8.452145985652884\n",
      "47 - Modern Times (1936) - Starring: Charles Chaplin (dir.), Charles Chaplin, Paulette Goddard 8.448916742373235\n",
      "48 - Once Upon a Time in the West (1968) - Starring: Sergio Leone (dir.), Henry Fonda, Charles Bronson 8.445623728455804\n",
      "49 - Rear Window (1954) - Starring: Alfred Hitchcock (dir.), James Stewart, Grace Kelly 8.436526917304358\n",
      "50 - Alien (1979) - Starring: Ridley Scott (dir.), Sigourney Weaver, Tom Skerritt 8.434158872100284\n",
      "51 - City Lights (1931) - Starring: Charles Chaplin (dir.), Charles Chaplin, Virginia Cherrill 8.434062733318964\n",
      "52 - Nuovo Cinema Paradiso (1988) - Starring: Giuseppe Tornatore (dir.), Philippe Noiret, Enzo Cannavale 8.432297893948899\n",
      "53 - Apocalypse Now (1979) - Starring: Francis Ford Coppola (dir.), Martin Sheen, Marlon Brando 8.42434455928319\n",
      "54 - Memento (2000) - Starring: Christopher Nolan (dir.), Guy Pearce, Carrie-Anne Moss 8.423083896492637\n",
      "55 - Raiders of the Lost Ark (1981) - Starring: Steven Spielberg (dir.), Harrison Ford, Karen Allen 8.408797549281413\n",
      "56 - Django Unchained (2012) - Starring: Quentin Tarantino (dir.), Jamie Foxx, Christoph Waltz 8.405673482883595\n",
      "57 - WALL·E (2008) - Starring: Andrew Stanton (dir.), Ben Burtt, Elissa Knight 8.393877423105767\n",
      "58 - The Lives of Others (2006) - Starring: Florian Henckel von Donnersmarck (dir.), Ulrich Mühe, Martina Gedeck 8.38538274104133\n",
      "59 - Sunset Blvd (1950) - Starring: Billy Wilder (dir.), William Holden, Gloria Swanson 8.381623481552056\n",
      "60 - Paths of Glory (1957) - Starring: Stanley Kubrick (dir.), Kirk Douglas, Ralph Meeker 8.372301640067347\n",
      "61 - The Great Dictator (1940) - Starring: Charles Chaplin (dir.), Charles Chaplin, Paulette Goddard 8.366224637188736\n",
      "62 - The Shining (1980) - Starring: Stanley Kubrick (dir.), Jack Nicholson, Shelley Duvall 8.366204817788566\n",
      "63 - Witness for the Prosecution (1957) - Starring: Billy Wilder (dir.), Tyrone Power, Marlene Dietrich 8.359783495033767\n",
      "64 - Avengers: Infinity War (2018) - Starring: Anthony Russo (dir.), Robert Downey Jr., Chris Hemsworth 8.35975383822089\n",
      "65 - Aliens (1986) - Starring: James Cameron (dir.), Sigourney Weaver, Michael Biehn 8.343185201330915\n",
      "66 - American Beauty (1999) - Starring: Sam Mendes (dir.), Kevin Spacey, Annette Bening 8.334465838137039\n",
      "67 - Spider-Man: Into the Spider-Verse (2018) - Starring: Bob Persichetti (dir.), Shameik Moore, Jake Johnson 8.333372150835105\n",
      "68 - Dr Strangelove or: How I Learned to Stop Worrying and Love the Bomb (1964) - Starring: Stanley Kubrick (dir.), Peter Sellers, George C. Scott 8.331003559151785\n",
      "69 - The Dark Knight Rises (2012) - Starring: Christopher Nolan (dir.), Christian Bale, Tom Hardy 8.327643588044369\n",
      "70 - Oldeuboi (2003) - Starring: Park Chan-wook (dir.), Choi Min-sik, Yoo Ji-tae 8.320297576412678\n",
      "71 - Joker (2019) - Starring: Todd Phillips (dir.), Joaquin Phoenix, Robert De Niro 8.316499581567935\n",
      "72 - Amadeus (1984) - Starring: Milos Forman (dir.), F. Murray Abraham, Tom Hulce 8.31595246044391\n",
      "73 - Inglourious Basterds (2009) - Starring: Quentin Tarantino (dir.), Brad Pitt, Diane Kruger 8.314222093348034\n",
      "74 - Toy Story (1995) - Starring: John Lasseter (dir.), Tom Hanks, Tim Allen 8.314159646175796\n",
      "75 - Braveheart (1995) - Starring: Mel Gibson (dir.), Mel Gibson, Sophie Marceau 8.313921202665318\n",
      "76 - Coco (2017) - Starring: Lee Unkrich (dir.), Anthony Gonzalez, Gael García Bernal 8.313848237263725\n",
      "77 - Das Boot (1981) - Starring: Wolfgang Petersen (dir.), Jürgen Prochnow, Herbert Grönemeyer 8.312161175620608\n",
      "78 - Avengers: Endgame (2019) - Starring: Anthony Russo (dir.), Robert Downey Jr., Chris Evans 8.303851262574513\n",
      "79 - Mononoke-hime (1997) - Starring: Hayao Miyazaki (dir.), Yôji Matsuda, Yuriko Ishida 8.30341852204463\n",
      "80 - Top Gun: Maverick (2022) - Starring: Joseph Kosinski (dir.), Tom Cruise, Jennifer Connelly 8.302128391575653\n",
      "81 - Once Upon a Time in America (1984) - Starring: Sergio Leone (dir.), Robert De Niro, James Woods 8.297668048652698\n",
      "82 - Good Will Hunting (1997) - Starring: Gus Van Sant (dir.), Robin Williams, Matt Damon 8.288790535549664\n",
      "83 - Kimi no na wa (2016) - Starring: Makoto Shinkai (dir.), Ryûnosuke Kamiki, Mone Kamishiraishi 8.279389048886069\n",
      "84 - Requiem for a Dream (2000) - Starring: Darren Aronofsky (dir.), Ellen Burstyn, Jared Leto 8.275768845698389\n",
      "85 - Toy Story 3 (2010) - Starring: Lee Unkrich (dir.), Tom Hanks, Tim Allen 8.274077387498744\n",
      "86 - Singin' in the Rain (1952) - Starring: Stanley Donen (dir.), Gene Kelly, Donald O'Connor 8.273636291943632\n",
      "87 - 3 Idiots (2009) - Starring: Rajkumar Hirani (dir.), Aamir Khan, Madhavan 8.273423761797476\n",
      "88 - Tengoku to jigoku (1963) - Starring: Akira Kurosawa (dir.), Toshirô Mifune, Yutaka Sada 8.268894248676345\n",
      "89 - Star Wars: Episode VI - Return of the Jedi (1983) - Starring: Richard Marquand (dir.), Mark Hamill, Harrison Ford 8.265700531176648\n",
      "90 - 2001: A Space Odyssey (1968) - Starring: Stanley Kubrick (dir.), Keir Dullea, Gary Lockwood 8.26385748698973\n",
      "91 - Eternal Sunshine of the Spotless Mind (2004) - Starring: Michel Gondry (dir.), Jim Carrey, Kate Winslet 8.263148150250371\n",
      "92 - Capharnaüm (2018) - Starring: Nadine Labaki (dir.), Zain Al Rafeea, Yordanos Shiferaw 8.262136117481743\n",
      "93 - Reservoir Dogs (1992) - Starring: Quentin Tarantino (dir.), Harvey Keitel, Tim Roth 8.261954099316112\n",
      "94 - Jagten (2012) - Starring: Thomas Vinterberg (dir.), Mads Mikkelsen, Thomas Bo Larsen 8.25616701295767\n",
      "95 - Citizen Kane (1941) - Starring: Orson Welles (dir.), Orson Welles, Joseph Cotten 8.254835293056335\n",
      "96 - Lawrence of Arabia (1962) - Starring: David Lean (dir.), Peter O'Toole, Alec Guinness 8.25404725083491\n",
      "97 - M - Eine Stadt sucht einen Mörder (1931) - Starring: Fritz Lang (dir.), Peter Lorre, Ellen Widmann 8.253409169387087\n",
      "98 - Idi i smotri (1985) - Starring: Elem Klimov (dir.), Aleksey Kravchenko, Olga Mironova 8.25146934417993\n",
      "99 - North by Northwest (1959) - Starring: Alfred Hitchcock (dir.), Cary Grant, Eva Marie Saint 8.24968956052957\n",
      "10 -  Vertigo (1958) - Starring: Alfred Hitchcock (dir.), James Stewart, Kim Novak 8.246056219933848\n",
      "101 - Le fabuleux destin d'Amélie Poulain (2001) - Starring: Jean-Pierre Jeunet (dir.), Audrey Tautou, Mathieu Kassovitz 8.243849107157013\n",
      "102 - A Clockwork Orange (1971) - Starring: Stanley Kubrick (dir.), Malcolm McDowell, Patrick Magee 8.242367308926655\n",
      "103 - The Apartment (1960) - Starring: Billy Wilder (dir.), Jack Lemmon, Shirley MacLaine 8.23927843804776\n",
      "104 - Double Indemnity (1944) - Starring: Billy Wilder (dir.), Fred MacMurray, Barbara Stanwyck 8.23886713861106\n",
      "105 - Full Metal Jacket (1987) - Starring: Stanley Kubrick (dir.), Matthew Modine, R. Lee Ermey 8.238534670038808\n",
      "106 - Ikiru (1952) - Starring: Akira Kurosawa (dir.), Takashi Shimura, Nobuo Kaneko 8.238057758645327\n",
      "107 - Scarface (1983) - Starring: Brian De Palma (dir.), Al Pacino, Michelle Pfeiffer 8.235171606816602\n",
      "108 - Hamilton (2020) - Starring: Thomas Kail (dir.), Lin-Manuel Miranda, Phillipa Soo 8.234419884490933\n",
      "109 - The Sting (1973) - Starring: George Roy Hill (dir.), Paul Newman, Robert Redford 8.227854173423054\n",
      "110 - To Kill a Mockingbird (1962) - Starring: Robert Mulligan (dir.), Gregory Peck, John Megna 8.22694514168623\n",
      "111 - Heat (1995) - Starring: Michael Mann (dir.), Al Pacino, Robert De Niro 8.224752072429856\n",
      "112 - Up (2009) - Starring: Pete Docter (dir.), Edward Asner, Jordan Nagai 8.224483352145555\n",
      "113 - Incendies (2010) - Starring: Denis Villeneuve (dir.), Lubna Azabal, Mélissa Désormeaux-Poulin 8.223956560595994\n",
      "114 - Taxi Driver (1976) - Starring: Martin Scorsese (dir.), Robert De Niro, Jodie Foster 8.223818872291103\n",
      "115 - Metropolis (1927) - Starring: Fritz Lang (dir.), Brigitte Helm, Alfred Abel 8.222096229024947\n",
      "116 - Jodaeiye Nader az Simin (2011) - Starring: Asghar Farhadi (dir.), Payman Maadi, Leila Hatami 8.221605461931803\n",
      "117 - LA Confidential (1997) - Starring: Curtis Hanson (dir.), Kevin Spacey, Russell Crowe 8.221470543489602\n",
      "118 - Snatch (2000) - Starring: Guy Ritchie (dir.), Jason Statham, Brad Pitt 8.218646695409833\n",
      "119 - Die Hard (1988) - Starring: John McTiernan (dir.), Bruce Willis, Alan Rickman 8.21814661338244\n",
      "120 - Ladri di biciclette (1948) - Starring: Vittorio De Sica (dir.), Lamberto Maggiorani, Enzo Staiola 8.218070562782087\n",
      "121 - Indiana Jones and the Last Crusade (1989) - Starring: Steven Spielberg (dir.), Harrison Ford, Sean Connery 8.216943845802973\n",
      "122 - Taare Zameen Par (2007) - Starring: Aamir Khan (dir.), Darsheel Safary, Aamir Khan 8.2113826636072\n",
      "123 - 1917 (2019) - Starring: Sam Mendes (dir.), Dean-Charles Chapman, George MacKay 8.21128555588464\n",
      "124 - Der Untergang (2004) - Starring: Oliver Hirschbiegel (dir.), Bruno Ganz, Alexandra Maria Lara 8.203734394617719\n",
      "125 - Per qualche dollaro in più (1965) - Starring: Sergio Leone (dir.), Clint Eastwood, Lee Van Cleef 8.201627327609257\n",
      "126 - Batman Begins (2005) - Starring: Christopher Nolan (dir.), Christian Bale, Michael Caine 8.199758946777015\n",
      "127 - Dangal (2016) - Starring: Nitesh Tiwari (dir.), Aamir Khan, Sakshi Tanwar 8.199253989568787\n",
      "128 - The Kid (1921) - Starring: Charles Chaplin (dir.), Charles Chaplin, Edna Purviance 8.193442950129585\n",
      "129 - Some Like It Hot (1959) - Starring: Billy Wilder (dir.), Marilyn Monroe, Tony Curtis 8.191863953471724\n",
      "130 - The Father (2020) - Starring: Florian Zeller (dir.), Anthony Hopkins, Olivia Colman 8.18084481513844\n",
      "131 - All About Eve (1950) - Starring: Joseph L. Mankiewicz (dir.), Bette Davis, Anne Baxter 8.1805920739805\n",
      "132 - Green Book (2018) - Starring: Peter Farrelly (dir.), Viggo Mortensen, Mahershala Ali 8.175999422404058\n",
      "133 - The Wolf of Wall Street (2013) - Starring: Martin Scorsese (dir.), Leonardo DiCaprio, Jonah Hill 8.174612707536806\n",
      "134 - Judgment at Nuremberg (1961) - Starring: Stanley Kramer (dir.), Spencer Tracy, Burt Lancaster 8.169786896840769\n",
      "135 - Ran (1985) - Starring: Akira Kurosawa (dir.), Tatsuya Nakadai, Akira Terao 8.165336922719602\n",
      "136 - Casino (1995) - Starring: Martin Scorsese (dir.), Robert De Niro, Sharon Stone 8.163885990778887\n",
      "137 - Pan's Labyrinth (2006) - Starring: Guillermo del Toro (dir.), Ivana Baquero, Ariadna Gil 8.16219660187941\n",
      "138 - Unforgiven (1992) - Starring: Clint Eastwood (dir.), Clint Eastwood, Gene Hackman 8.161343179984113\n",
      "139 - There Will Be Blood (2007) - Starring: Paul Thomas Anderson (dir.), Daniel Day-Lewis, Paul Dano 8.15807718305953\n",
      "140 - The Truman Show (1998) - Starring: Peter Weir (dir.), Jim Carrey, Ed Harris 8.15601331251101\n",
      "141 - Spider-Man: No Way Home (2021) - Starring: Jon Watts (dir.), Tom Holland, Zendaya 8.15492467591847\n",
      "142 - The Sixth Sense (1999) - Starring: M. Night Shyamalan (dir.), Bruce Willis, Haley Joel Osment 8.153644869263864\n",
      "143 - A Beautiful Mind (2001) - Starring: Ron Howard (dir.), Russell Crowe, Ed Harris 8.15198937060068\n",
      "144 - Yôjinbô (1961) - Starring: Akira Kurosawa (dir.), Toshirô Mifune, Eijirô Tôno 8.149594065453966\n",
      "145 - Monty Python and the Holy Grail (1975) - Starring: Terry Gilliam (dir.), Graham Chapman, John Cleese 8.14949452994211\n",
      "146 - The Treasure of the Sierra Madre (1948) - Starring: John Huston (dir.), Humphrey Bogart, Walter Huston 8.147921028117102\n",
      "147 - Shutter Island (2010) - Starring: Martin Scorsese (dir.), Leonardo DiCaprio, Emily Mortimer 8.147818460827997\n",
      "148 - Jurassic Park (1993) - Starring: Steven Spielberg (dir.), Sam Neill, Laura Dern 8.14572158163941\n",
      "149 - Rashômon (1950) - Starring: Akira Kurosawa (dir.), Toshirô Mifune, Machiko Kyô 8.142077907461111\n",
      "150 - The Great Escape (1963) - Starring: John Sturges (dir.), Steve McQueen, James Garner 8.14150652063792\n",
      "151 - Kill Bill: Vol 1 (2003) - Starring: Quentin Tarantino (dir.), Uma Thurman, David Carradine 8.137915135629415\n",
      "152 - No Country for Old Men (2007) - Starring: Ethan Coen (dir.), Tommy Lee Jones, Javier Bardem 8.137268895821194\n",
      "153 - Finding Nemo (2003) - Starring: Andrew Stanton (dir.), Albert Brooks, Ellen DeGeneres 8.13146463273816\n",
      "154 - The Elephant Man (1980) - Starring: David Lynch (dir.), Anthony Hopkins, John Hurt 8.129695985016125\n",
      "155 - The Thing (1982) - Starring: John Carpenter (dir.), Kurt Russell, Wilford Brimley 8.128976193696756\n",
      "156 - Chinatown (1974) - Starring: Roman Polanski (dir.), Jack Nicholson, Faye Dunaway 8.128342322561949\n",
      "157 - Raging Bull (1980) - Starring: Martin Scorsese (dir.), Robert De Niro, Cathy Moriarty 8.127463287021666\n",
      "158 - Gone with the Wind (1939) - Starring: Victor Fleming (dir.), Clark Gable, Vivien Leigh 8.124418681405766\n",
      "159 - V for Vendetta (2005) - Starring: James McTeigue (dir.), Hugo Weaving, Natalie Portman 8.124350278514713\n",
      "160 - Inside Out (2015) - Starring: Pete Docter (dir.), Amy Poehler, Bill Hader 8.122661775432753\n",
      "161 - Lock, Stock and Two Smoking Barrels (1998) - Starring: Guy Ritchie (dir.), Jason Flemyng, Dexter Fletcher 8.121818947159063\n",
      "162 - Dial M for Murder (1954) - Starring: Alfred Hitchcock (dir.), Ray Milland, Grace Kelly 8.1199297530033\n",
      "163 - El secreto de sus ojos (2009) - Starring: Juan José Campanella (dir.), Ricardo Darín, Soledad Villamil 8.117726359656725\n",
      "164 - Hauru no ugoku shiro (2004) - Starring: Hayao Miyazaki (dir.), Chieko Baishô, Takuya Kimura 8.115524603445675\n",
      "165 - The Bridge on the River Kwai (1957) - Starring: David Lean (dir.), William Holden, Alec Guinness 8.112401456795084\n",
      "166 - Three Billboards Outside Ebbing, Missouri (2017) - Starring: Martin McDonagh (dir.), Frances McDormand, Woody Harrelson 8.111762769656956\n",
      "167 - Trainspotting (1996) - Starring: Danny Boyle (dir.), Ewan McGregor, Ewen Bremner 8.111041476847248\n",
      "168 - Warrior (2011) - Starring: Gavin O'Connor (dir.), Tom Hardy, Nick Nolte 8.103605553544705\n",
      "169 - Gran Torino (2008) - Starring: Clint Eastwood (dir.), Clint Eastwood, Bee Vang 8.10302060312834\n",
      "170 - Fargo (1996) - Starring: Joel Coen (dir.), William H. Macy, Frances McDormand 8.10253593679965\n",
      "171 - Prisoners (2013) - Starring: Denis Villeneuve (dir.), Hugh Jackman, Jake Gyllenhaal 8.100115412165344\n",
      "172 - Tonari no Totoro (1988) - Starring: Hayao Miyazaki (dir.), Hitoshi Takagi, Noriko Hidaka 8.093744342019395\n",
      "173 - Million Dollar Baby (2004) - Starring: Clint Eastwood (dir.), Hilary Swank, Clint Eastwood 8.089400612292321\n",
      "174 - Catch Me If You Can (2002) - Starring: Steven Spielberg (dir.), Leonardo DiCaprio, Tom Hanks 8.088650600536955\n",
      "175 - The Gold Rush (1925) - Starring: Charles Chaplin (dir.), Charles Chaplin, Mack Swain 8.086411299615012\n",
      "176 - Bacheha-Ye aseman (1997) - Starring: Majid Majidi (dir.), Mohammad Amir Naji, Amir Farrokh Hashemian 8.08569866548802\n",
      "177 - Blade Runner (1982) - Starring: Ridley Scott (dir.), Harrison Ford, Rutger Hauer 8.0851052096895\n",
      "178 - On the Waterfront (1954) - Starring: Elia Kazan (dir.), Marlon Brando, Karl Malden 8.082280477721103\n",
      "179 - 12 Years a Slave (2013) - Starring: Steve McQueen (dir.), Chiwetel Ejiofor, Michael Kenneth Williams 8.079803593009192\n",
      "180 - Before Sunrise (1995) - Starring: Richard Linklater (dir.), Ethan Hawke, Julie Delpy 8.07974949688091\n",
      "181 - The Third Man (1949) - Starring: Carol Reed (dir.), Orson Welles, Joseph Cotten 8.079432159589631\n",
      "182 - Smultronstället (1957) - Starring: Ingmar Bergman (dir.), Victor Sjöström, Bibi Andersson 8.078705897403497\n",
      "183 - Harry Potter and the Deathly Hallows: Part 2 (2011) - Starring: David Yates (dir.), Daniel Radcliffe, Emma Watson 8.078164063225547\n",
      "184 - Ben-Hur (1959) - Starring: William Wyler (dir.), Charlton Heston, Jack Hawkins 8.077810420472165\n",
      "185 - Gone Girl (2014) - Starring: David Fincher (dir.), Ben Affleck, Rosamund Pike 8.077056728250225\n",
      "186 - The General (1926) - Starring: Clyde Bruckman (dir.), Buster Keaton, Marion Mack 8.077012048393117\n",
      "187 - The Deer Hunter (1978) - Starring: Michael Cimino (dir.), Robert De Niro, Christopher Walken 8.07527660310203\n",
      "188 - The Grand Budapest Hotel (2014) - Starring: Wes Anderson (dir.), Ralph Fiennes, F. Murray Abraham 8.074317016417785\n",
      "189 - In the Name of the Father (1993) - Starring: Jim Sheridan (dir.), Daniel Day-Lewis, Pete Postlethwaite 8.074085960651875\n",
      "190 - Barry Lyndon (1975) - Starring: Stanley Kubrick (dir.), Ryan O'Neal, Marisa Berenson 8.073059352826455\n",
      "191 - Le salaire de la peur (1953) - Starring: Henri-Georges Clouzot (dir.), Yves Montand, Charles Vanel 8.072064994882076\n",
      "192 - Mr Smith Goes to Washington (1939) - Starring: Frank Capra (dir.), James Stewart, Jean Arthur 8.069232416542814\n",
      "193 - Sherlock Jr (1924) - Starring: Buster Keaton (dir.), Buster Keaton, Kathryn McGuire 8.069058396038992\n",
      "194 - Hacksaw Ridge (2016) - Starring: Mel Gibson (dir.), Andrew Garfield, Sam Worthington 8.068769911155863\n",
      "195 - Klaus (2019) - Starring: Sergio Pablos (dir.), Jason Schwartzman, J.K. Simmons 8.068682415025926\n",
      "196 - Salinui chueok (2003) - Starring: Bong Joon Ho (dir.), Song Kang-ho, Kim Sang-kyung 8.06862050147175\n",
      "197 - Relatos salvajes (2014) - Starring: Damián Szifron (dir.), Darío Grandinetti, María Marull 8.066751413645662\n",
      "198 - Det sjunde inseglet (1957) - Starring: Ingmar Bergman (dir.), Max von Sydow, Gunnar Björnstrand 8.065408989591532\n",
      "199 - Room (2015) - Starring: Lenny Abrahamson (dir.), Brie Larson, Jacob Tremblay 8.06402580164046\n",
      "200 - Mad Max: Fury Road (2015) - Starring: George Miller (dir.), Tom Hardy, Charlize Theron 8.063282227014295\n",
      "201 - Mary and Max (2009) - Starring: Adam Elliot (dir.), Toni Collette, Philip Seymour Hoffman 8.061841547684306\n",
      "202 - How to Train Your Dragon (2010) - Starring: Dean DeBlois (dir.), Jay Baruchel, Gerard Butler 8.061507464286295\n",
      "203 - The Big Lebowski (1998) - Starring: Joel Coen (dir.), Jeff Bridges, John Goodman 8.060687404605607\n",
      "204 - Monsters, Inc (2001) - Starring: Pete Docter (dir.), Billy Crystal, John Goodman 8.05959663562458\n",
      "205 - Jaws (1975) - Starring: Steven Spielberg (dir.), Roy Scheider, Robert Shaw 8.05949277770903\n",
      "206 - Tôkyô monogatari (1953) - Starring: Yasujirô Ozu (dir.), Chishû Ryû, Chieko Higashiyama 8.057063138353724\n",
      "207 - La passion de Jeanne d'Arc (1928) - Starring: Carl Theodor Dreyer (dir.), Maria Falconetti, Eugene Silvain 8.056536696955831\n",
      "208 - Dead Poets Society (1989) - Starring: Peter Weir (dir.), Robin Williams, Robert Sean Leonard 8.055415299807704\n",
      "209 - Hotel Rwanda (2004) - Starring: Terry George (dir.), Don Cheadle, Sophie Okonedo 8.051768649104323\n",
      "210 - Ford v Ferrari (2019) - Starring: James Mangold (dir.), Matt Damon, Christian Bale 8.047458373174328\n",
      "211 - Rocky (1976) - Starring: John G. Avildsen (dir.), Sylvester Stallone, Talia Shire 8.046517217081085\n",
      "212 - Platoon (1986) - Starring: Oliver Stone (dir.), Charlie Sheen, Tom Berenger 8.046044013763153\n",
      "213 - Pather Panchali (1955) - Starring: Satyajit Ray (dir.), Kanu Bannerjee, Karuna Bannerjee 8.040417719030174\n",
      "214 - Stand by Me (1986) - Starring: Rob Reiner (dir.), Wil Wheaton, River Phoenix 8.040329114377892\n",
      "215 - The Terminator (1984) - Starring: James Cameron (dir.), Arnold Schwarzenegger, Linda Hamilton 8.040173645299866\n",
      "216 - Spotlight (2015) - Starring: Tom McCarthy (dir.), Mark Ruffalo, Michael Keaton 8.040010707208625\n",
      "217 - Logan (2017) - Starring: James Mangold (dir.), Hugh Jackman, Patrick Stewart 8.037905587491553\n",
      "218 - Rush (2013) - Starring: Ron Howard (dir.), Daniel Brühl, Chris Hemsworth 8.037775179769568\n",
      "219 - Ratatouille (2007) - Starring: Brad Bird (dir.), Brad Garrett, Lou Romano 8.037096210510823\n",
      "220 - Everything Everywhere All at Once (2022) - Starring: Dan Kwan (dir.), Michelle Yeoh, Stephanie Hsu 8.037018808768499\n",
      "221 - Network (1976) - Starring: Sidney Lumet (dir.), Faye Dunaway, William Holden 8.03628199481225\n",
      "222 - Into the Wild (2007) - Starring: Sean Penn (dir.), Emile Hirsch, Vince Vaughn 8.034740531391146\n",
      "223 - The Wizard of Oz (1939) - Starring: Victor Fleming (dir.), Judy Garland, Frank Morgan 8.03245799742452\n",
      "224 - Before Sunset (2004) - Starring: Richard Linklater (dir.), Ethan Hawke, Julie Delpy 8.030721747421417\n",
      "225 - Groundhog Day (1993) - Starring: Harold Ramis (dir.), Bill Murray, Andie MacDowell 8.029337436322713\n",
      "226 - The Exorcist (1973) - Starring: William Friedkin (dir.), Ellen Burstyn, Max von Sydow 8.027138222276918\n",
      "227 - Jai Bhim (2021) - Starring: T.J. Gnanavel (dir.), Suriya, Lijo Mol Jose 8.026842973126673\n",
      "228 - To Be or Not to Be (1942) - Starring: Ernst Lubitsch (dir.), Carole Lombard, Jack Benny 8.02519373017725\n",
      "229 - The Incredibles (2004) - Starring: Brad Bird (dir.), Craig T. Nelson, Samuel L. Jackson 8.025115035244632\n",
      "230 - The Best Years of Our Lives (1946) - Starring: William Wyler (dir.), Myrna Loy, Dana Andrews 8.025073531381432\n",
      "231 - La battaglia di Algeri (1966) - Starring: Gillo Pontecorvo (dir.), Brahim Hadjadj, Jean Martin 8.024316542380273\n",
      "232 - Hachi: A Dog's Tale (2009) - Starring: Lasse Hallström (dir.), Richard Gere, Joan Allen 8.02237052927781\n",
      "233 - The Grapes of Wrath (1940) - Starring: John Ford (dir.), Henry Fonda, Jane Darwell 8.021550736349555\n",
      "234 - Rebecca (1940) - Starring: Alfred Hitchcock (dir.), Laurence Olivier, Joan Fontaine 8.021446099488221\n",
      "235 - Amores perros (2000) - Starring: Alejandro G. Iñárritu (dir.), Emilio Echevarría, Gael García Bernal 8.021120685216465\n",
      "236 - Pirates of the Caribbean: The Curse of the Black Pearl (2003) - Starring: Gore Verbinski (dir.), Johnny Depp, Geoffrey Rush 8.021072621215547\n",
      "237 - Babam ve Oglum (2005) - Starring: Çagan Irmak (dir.), Çetin Tekindor, Fikret Kuskan 8.02091797147941\n",
      "238 - La haine (1995) - Starring: Mathieu Kassovitz (dir.), Vincent Cassel, Hubert Koundé 8.020436239301576\n",
      "239 - Cool Hand Luke (1967) - Starring: Stuart Rosenberg (dir.), Paul Newman, George Kennedy 8.019859161175914\n",
      "240 - Les quatre cents coups (1959) - Starring: François Truffaut (dir.), Jean-Pierre Léaud, Albert Rémy 8.016190026678377\n",
      "241 - Persona (1966) - Starring: Ingmar Bergman (dir.), Bibi Andersson, Liv Ullmann 8.015044959058983\n",
      "242 - Ah-ga-ssi (2016) - Starring: Park Chan-wook (dir.), Kim Min-hee, Ha Jung-woo 8.013407490119839\n",
      "243 - It Happened One Night (1934) - Starring: Frank Capra (dir.), Clark Gable, Claudette Colbert 8.01314320076395\n",
      "244 - The Sound of Music (1965) - Starring: Robert Wise (dir.), Julie Andrews, Christopher Plummer 8.01268330640688\n",
      "245 - Life of Brian (1979) - Starring: Terry Jones (dir.), Graham Chapman, John Cleese 8.012487322216218\n",
      "246 - Dersu Uzala (1975) - Starring: Akira Kurosawa (dir.), Maksim Munzuk, Yuriy Solomin 8.008559496158806\n",
      "247 - Gandhi (1982) - Starring: Richard Attenborough (dir.), Ben Kingsley, John Gielgud 8.005000929587604\n",
      "248 - The Help (2011) - Starring: Tate Taylor (dir.), Viola Davis, Emma Stone 8.004942304826704\n",
      "249 - Aladdin (1992) - Starring: Ron Clements (dir.), Scott Weinger, Robin Williams 8.00479451319025\n",
      "250 - The Iron Giant (1999) - Starring: Brad Bird (dir.), Eli Marienthal, Harry Connick Jr. 8.003770071169978\n"
     ]
    }
   ],
   "source": [
    "from bs4 import BeautifulSoup\n",
    "import requests\n",
    "import re\n",
    "import pandas as pd\n",
    "\n",
    "\n",
    "# Downloading imdb top 250 movie's data\n",
    "url = 'http://www.imdb.com/chart/top'\n",
    "response = requests.get(url)\n",
    "soup = BeautifulSoup(response.text, \"html.parser\")\n",
    "movies = soup.select('td.titleColumn')\n",
    "crew = [a.attrs.get('title') for a in soup.select('td.titleColumn a')]\n",
    "ratings = [b.attrs.get('data-value')\n",
    "\t\tfor b in soup.select('td.posterColumn span[name=ir]')]\n",
    "\n",
    "\n",
    "\n",
    "\n",
    "# create a empty list for storing\n",
    "# movie information\n",
    "list = []\n",
    "\n",
    "# Iterating over movies to extract\n",
    "# each movie's details\n",
    "for index in range(0, len(movies)):\n",
    "\t\n",
    "\t# Separating movie into: 'place',\n",
    "\t# 'title', 'year'\n",
    "\tmovie_string = movies[index].get_text()\n",
    "\tmovie = (' '.join(movie_string.split()).replace('.', ''))\n",
    "\tmovie_title = movie[len(str(index))+1:-7]\n",
    "\tyear = re.search('\\((.*?)\\)', movie_string).group(1)\n",
    "\tplace = movie[:len(str(index))-(len(movie))]\n",
    "\tdata = {\"place\": place,\n",
    "\t\t\t\"movie_title\": movie_title,\n",
    "\t\t\t\"rating\": ratings[index],\n",
    "\t\t\t\"year\": year,\n",
    "\t\t\t\"star_cast\": crew[index],\n",
    "\t\t\t}\n",
    "\tlist.append(data)\n",
    "\n",
    "# printing movie details with its rating.\n",
    "for movie in list:\n",
    "\tprint(movie['place'], '-', movie['movie_title'], '('+movie['year'] +\n",
    "\t\t') -', 'Starring:', movie['star_cast'], movie['rating'])\n",
    "\n",
    "\n",
    "##.......##\n",
    "df = pd.DataFrame(list)\n",
    "df.to_csv('imdb_top_100_movies.csv',index=False)\n"
   ]
  },
  {
   "cell_type": "markdown",
   "metadata": {},
   "source": [
    "# WEB SCRAPING – ASSIGNMENT 2"
   ]
  },
  {
   "cell_type": "code",
   "execution_count": 2,
   "metadata": {},
   "outputs": [
    {
     "name": "stdout",
     "output_type": "stream",
     "text": [
      "Requirement already satisfied: selenium in c:\\users\\shash\\anaconda3\\lib\\site-packages (4.6.0)\n",
      "Requirement already satisfied: certifi>=2021.10.8 in c:\\users\\shash\\anaconda3\\lib\\site-packages (from selenium) (2022.9.24)\n",
      "Requirement already satisfied: trio-websocket~=0.9 in c:\\users\\shash\\anaconda3\\lib\\site-packages (from selenium) (0.9.2)\n",
      "Requirement already satisfied: trio~=0.17 in c:\\users\\shash\\anaconda3\\lib\\site-packages (from selenium) (0.22.0)\n",
      "Requirement already satisfied: urllib3[socks]~=1.26 in c:\\users\\shash\\anaconda3\\lib\\site-packages (from selenium) (1.26.12)\n",
      "Requirement already satisfied: wsproto>=0.14 in c:\\users\\shash\\anaconda3\\lib\\site-packages (from trio-websocket~=0.9->selenium) (1.2.0)\n",
      "Requirement already satisfied: async-generator>=1.10 in c:\\users\\shash\\anaconda3\\lib\\site-packages (from trio-websocket~=0.9->selenium) (1.10)\n",
      "Requirement already satisfied: outcome in c:\\users\\shash\\anaconda3\\lib\\site-packages (from trio~=0.17->selenium) (1.2.0)\n",
      "Requirement already satisfied: idna in c:\\users\\shash\\anaconda3\\lib\\site-packages (from trio~=0.17->selenium) (2.10)\n",
      "Requirement already satisfied: sortedcontainers in c:\\users\\shash\\anaconda3\\lib\\site-packages (from trio~=0.17->selenium) (2.2.2)\n",
      "Requirement already satisfied: exceptiongroup>=1.0.0rc9; python_version < \"3.11\" in c:\\users\\shash\\anaconda3\\lib\\site-packages (from trio~=0.17->selenium) (1.0.1)\n",
      "Requirement already satisfied: cffi>=1.14; os_name == \"nt\" and implementation_name != \"pypy\" in c:\\users\\shash\\anaconda3\\lib\\site-packages (from trio~=0.17->selenium) (1.14.3)\n",
      "Requirement already satisfied: sniffio in c:\\users\\shash\\anaconda3\\lib\\site-packages (from trio~=0.17->selenium) (1.3.0)\n",
      "Requirement already satisfied: attrs>=19.2.0 in c:\\users\\shash\\anaconda3\\lib\\site-packages (from trio~=0.17->selenium) (20.3.0)\n",
      "Requirement already satisfied: PySocks!=1.5.7,<2.0,>=1.5.6; extra == \"socks\" in c:\\users\\shash\\anaconda3\\lib\\site-packages (from urllib3[socks]~=1.26->selenium) (1.7.1)\n",
      "Requirement already satisfied: h11<1,>=0.9.0 in c:\\users\\shash\\anaconda3\\lib\\site-packages (from wsproto>=0.14->trio-websocket~=0.9->selenium) (0.14.0)\n",
      "Requirement already satisfied: pycparser in c:\\users\\shash\\anaconda3\\lib\\site-packages (from cffi>=1.14; os_name == \"nt\" and implementation_name != \"pypy\"->trio~=0.17->selenium) (2.20)\n"
     ]
    }
   ],
   "source": [
    "!pip install selenium"
   ]
  },
  {
   "cell_type": "code",
   "execution_count": 3,
   "metadata": {},
   "outputs": [],
   "source": [
    "import selenium\n",
    "from selenium import webdriver\n",
    "import pandas as pd\n",
    "from selenium.webdriver.common.by import By\n",
    "import warnings\n",
    "warnings.filterwarnings(\"ignore\")\n",
    "import time"
   ]
  },
  {
   "cell_type": "code",
   "execution_count": 4,
   "metadata": {},
   "outputs": [],
   "source": [
    "driver = webdriver.Chrome(r'C:\\Users\\shash\\Downloads\\chromedriver_win32\\chromedriver.exe')"
   ]
  },
  {
   "cell_type": "code",
   "execution_count": 5,
   "metadata": {},
   "outputs": [],
   "source": [
    "driver.maximize_window()"
   ]
  },
  {
   "cell_type": "code",
   "execution_count": 6,
   "metadata": {},
   "outputs": [],
   "source": [
    "url = 'https://www.naukri.com/'\n",
    "driver.get(url)"
   ]
  },
  {
   "cell_type": "code",
   "execution_count": 8,
   "metadata": {},
   "outputs": [],
   "source": [
    "search_jobs = driver.find_element(By.CLASS_NAME,\"suggestor-input\")\n",
    "search_jobs.send_keys(\"Data Scientist\")"
   ]
  },
  {
   "cell_type": "code",
   "execution_count": 9,
   "metadata": {},
   "outputs": [],
   "source": [
    "search_locn = driver.find_element(By.XPATH,'/html/body/div[1]/div[6]/div/div/div[5]/div/div/div/input')\n",
    "search_locn.send_keys(\"Bangalore/Bengaluru\")"
   ]
  },
  {
   "cell_type": "code",
   "execution_count": 11,
   "metadata": {},
   "outputs": [],
   "source": [
    "search_btn = driver.find_element(By.CLASS_NAME, \"qsbSubmit\")\n",
    "search_btn.click()"
   ]
  },
  {
   "cell_type": "code",
   "execution_count": 33,
   "metadata": {},
   "outputs": [
    {
     "data": {
      "text/plain": [
       "[<selenium.webdriver.remote.webelement.WebElement (session=\"c9654246f633541556f3b22d11a10b22\", element=\"e99b33ed-1b0d-4ef0-b7d1-ba306bf39499\")>,\n",
       " <selenium.webdriver.remote.webelement.WebElement (session=\"c9654246f633541556f3b22d11a10b22\", element=\"30227230-f850-4350-8a60-9367d5a2e6ac\")>,\n",
       " <selenium.webdriver.remote.webelement.WebElement (session=\"c9654246f633541556f3b22d11a10b22\", element=\"222ac39e-e48f-495a-927a-10551e81aa8b\")>,\n",
       " <selenium.webdriver.remote.webelement.WebElement (session=\"c9654246f633541556f3b22d11a10b22\", element=\"04bf86bc-b585-459f-8e92-ddaabc95fe28\")>,\n",
       " <selenium.webdriver.remote.webelement.WebElement (session=\"c9654246f633541556f3b22d11a10b22\", element=\"1c56009f-eaea-4532-b988-dfad1e7e0447\")>,\n",
       " <selenium.webdriver.remote.webelement.WebElement (session=\"c9654246f633541556f3b22d11a10b22\", element=\"a4d3e250-22f1-4e37-af65-c5ab2d974f2b\")>,\n",
       " <selenium.webdriver.remote.webelement.WebElement (session=\"c9654246f633541556f3b22d11a10b22\", element=\"2fc06b46-d7a8-4495-b5d3-b4b74b34a8e9\")>,\n",
       " <selenium.webdriver.remote.webelement.WebElement (session=\"c9654246f633541556f3b22d11a10b22\", element=\"5dd4d282-6408-4460-b953-d7e879e38127\")>,\n",
       " <selenium.webdriver.remote.webelement.WebElement (session=\"c9654246f633541556f3b22d11a10b22\", element=\"be964c98-9519-49ef-b543-fcb7984d8e80\")>,\n",
       " <selenium.webdriver.remote.webelement.WebElement (session=\"c9654246f633541556f3b22d11a10b22\", element=\"fe2821b8-bd7a-4bfb-9953-d2e3e61281ab\")>,\n",
       " <selenium.webdriver.remote.webelement.WebElement (session=\"c9654246f633541556f3b22d11a10b22\", element=\"710929ea-89e7-417a-a74f-c0ef7c281944\")>,\n",
       " <selenium.webdriver.remote.webelement.WebElement (session=\"c9654246f633541556f3b22d11a10b22\", element=\"34b1f95a-db3f-4dbd-ac8a-76ba56383c33\")>,\n",
       " <selenium.webdriver.remote.webelement.WebElement (session=\"c9654246f633541556f3b22d11a10b22\", element=\"4649d544-3f6c-4e18-84a2-ef0ab41fe16f\")>,\n",
       " <selenium.webdriver.remote.webelement.WebElement (session=\"c9654246f633541556f3b22d11a10b22\", element=\"b1e256b2-c958-41b7-9d38-c609505519c5\")>,\n",
       " <selenium.webdriver.remote.webelement.WebElement (session=\"c9654246f633541556f3b22d11a10b22\", element=\"333b3e7b-4be0-4ab4-84a3-fa2f6fbc2039\")>,\n",
       " <selenium.webdriver.remote.webelement.WebElement (session=\"c9654246f633541556f3b22d11a10b22\", element=\"d33d3cc3-89c6-41d5-8347-342f7861510d\")>,\n",
       " <selenium.webdriver.remote.webelement.WebElement (session=\"c9654246f633541556f3b22d11a10b22\", element=\"90ed5658-dd8a-4e2f-9889-41b6aca7061e\")>,\n",
       " <selenium.webdriver.remote.webelement.WebElement (session=\"c9654246f633541556f3b22d11a10b22\", element=\"c19b41e1-e741-4915-9345-a61efa1afc7d\")>,\n",
       " <selenium.webdriver.remote.webelement.WebElement (session=\"c9654246f633541556f3b22d11a10b22\", element=\"187e0901-7d93-480b-9c47-c754f4bf970d\")>,\n",
       " <selenium.webdriver.remote.webelement.WebElement (session=\"c9654246f633541556f3b22d11a10b22\", element=\"6dad6d58-3916-4549-b60b-b270c3a0c0fe\")>]"
      ]
     },
     "execution_count": 33,
     "metadata": {},
     "output_type": "execute_result"
    }
   ],
   "source": [
    "title_tags=driver.find_elements(By.XPATH, \"//a[@class='title fw500 ellipsis']\")\n",
    "title_tags"
   ]
  },
  {
   "cell_type": "code",
   "execution_count": 18,
   "metadata": {},
   "outputs": [],
   "source": [
    "# extract the text of the job title  from the tags\n",
    "job_titles=[]\n",
    "for i in title_tags:\n",
    "    if i.text is None:\n",
    "        job_titles.append('Not')\n",
    "    else:\n",
    "        job_titles.append(i.text)\n",
    "job_titles[:10]"
   ]
  },
  {
   "cell_type": "code",
   "execution_count": 34,
   "metadata": {},
   "outputs": [
    {
     "data": {
      "text/plain": [
       "['Analystics & Modeling Specialist',\n",
       " 'Assistant Manager - Data Science',\n",
       " 'Senior Data Scientist',\n",
       " 'Program Manager, Analytics',\n",
       " 'Data Scientist - Looking For Immediate Joiners',\n",
       " 'Data Scientist',\n",
       " 'Senior Data Scientist',\n",
       " 'Data Scientist - II',\n",
       " 'Lead ML Scientist',\n",
       " 'Senior Data Scientist',\n",
       " 'Python Programming Language Data Science Practitioner',\n",
       " 'Industry X - Software Engineering',\n",
       " 'Data Scientist: Artificial Intelligence',\n",
       " 'ACN - Applied Intelligence - C4DI - Sustainability - 09',\n",
       " 'Data Scientist',\n",
       " 'Data Scientist',\n",
       " 'Data Scientist',\n",
       " 'ACN - Applied Intelligence - Data Scientist - 09',\n",
       " 'Data Scientist - 2',\n",
       " 'Data Scientist']"
      ]
     },
     "execution_count": 34,
     "metadata": {},
     "output_type": "execute_result"
    }
   ],
   "source": [
    "job_titles"
   ]
  },
  {
   "cell_type": "code",
   "execution_count": 36,
   "metadata": {},
   "outputs": [],
   "source": [
    "company_names =[]\n",
    "company_tags = driver.find_elements(By.XPATH,'//a[@class=\"subTitle ellipsis fleft\"]')\n",
    "for i in company_tags:\n",
    "    company_names.append(i.text)\n",
    "    company_names"
   ]
  },
  {
   "cell_type": "code",
   "execution_count": 37,
   "metadata": {},
   "outputs": [
    {
     "data": {
      "text/plain": [
       "20"
      ]
     },
     "execution_count": 37,
     "metadata": {},
     "output_type": "execute_result"
    }
   ],
   "source": [
    "len(company_names)"
   ]
  },
  {
   "cell_type": "code",
   "execution_count": 38,
   "metadata": {},
   "outputs": [],
   "source": [
    "jobs = pd.DataFrame()\n",
    "jobs['Job Title'] = job_titles\n",
    "jobs['Company'] = company_names"
   ]
  },
  {
   "cell_type": "code",
   "execution_count": 39,
   "metadata": {
    "scrolled": true
   },
   "outputs": [
    {
     "data": {
      "text/html": [
       "<div>\n",
       "<style scoped>\n",
       "    .dataframe tbody tr th:only-of-type {\n",
       "        vertical-align: middle;\n",
       "    }\n",
       "\n",
       "    .dataframe tbody tr th {\n",
       "        vertical-align: top;\n",
       "    }\n",
       "\n",
       "    .dataframe thead th {\n",
       "        text-align: right;\n",
       "    }\n",
       "</style>\n",
       "<table border=\"1\" class=\"dataframe\">\n",
       "  <thead>\n",
       "    <tr style=\"text-align: right;\">\n",
       "      <th></th>\n",
       "      <th>Job Title</th>\n",
       "      <th>Company</th>\n",
       "    </tr>\n",
       "  </thead>\n",
       "  <tbody>\n",
       "    <tr>\n",
       "      <th>0</th>\n",
       "      <td>Analystics &amp; Modeling Specialist</td>\n",
       "      <td>Accenture</td>\n",
       "    </tr>\n",
       "    <tr>\n",
       "      <th>1</th>\n",
       "      <td>Assistant Manager - Data Science</td>\n",
       "      <td>Citiustech</td>\n",
       "    </tr>\n",
       "    <tr>\n",
       "      <th>2</th>\n",
       "      <td>Senior Data Scientist</td>\n",
       "      <td>Wipro</td>\n",
       "    </tr>\n",
       "    <tr>\n",
       "      <th>3</th>\n",
       "      <td>Program Manager, Analytics</td>\n",
       "      <td>Uber</td>\n",
       "    </tr>\n",
       "    <tr>\n",
       "      <th>4</th>\n",
       "      <td>Data Scientist - Looking For Immediate Joiners</td>\n",
       "      <td>Wipro</td>\n",
       "    </tr>\n",
       "    <tr>\n",
       "      <th>5</th>\n",
       "      <td>Data Scientist</td>\n",
       "      <td>Altair</td>\n",
       "    </tr>\n",
       "    <tr>\n",
       "      <th>6</th>\n",
       "      <td>Senior Data Scientist</td>\n",
       "      <td>Boston Consulting Group</td>\n",
       "    </tr>\n",
       "    <tr>\n",
       "      <th>7</th>\n",
       "      <td>Data Scientist - II</td>\n",
       "      <td>Bizongo</td>\n",
       "    </tr>\n",
       "    <tr>\n",
       "      <th>8</th>\n",
       "      <td>Lead ML Scientist</td>\n",
       "      <td>Fractal Analytics</td>\n",
       "    </tr>\n",
       "    <tr>\n",
       "      <th>9</th>\n",
       "      <td>Senior Data Scientist</td>\n",
       "      <td>Baker Hughes</td>\n",
       "    </tr>\n",
       "    <tr>\n",
       "      <th>10</th>\n",
       "      <td>Python Programming Language Data Science Pract...</td>\n",
       "      <td>Accenture</td>\n",
       "    </tr>\n",
       "    <tr>\n",
       "      <th>11</th>\n",
       "      <td>Industry X - Software Engineering</td>\n",
       "      <td>Accenture</td>\n",
       "    </tr>\n",
       "    <tr>\n",
       "      <th>12</th>\n",
       "      <td>Data Scientist: Artificial Intelligence</td>\n",
       "      <td>IBM</td>\n",
       "    </tr>\n",
       "    <tr>\n",
       "      <th>13</th>\n",
       "      <td>ACN - Applied Intelligence - C4DI - Sustainabi...</td>\n",
       "      <td>Accenture</td>\n",
       "    </tr>\n",
       "    <tr>\n",
       "      <th>14</th>\n",
       "      <td>Data Scientist</td>\n",
       "      <td>Applied Materials</td>\n",
       "    </tr>\n",
       "    <tr>\n",
       "      <th>15</th>\n",
       "      <td>Data Scientist</td>\n",
       "      <td>Applied Materials</td>\n",
       "    </tr>\n",
       "    <tr>\n",
       "      <th>16</th>\n",
       "      <td>Data Scientist</td>\n",
       "      <td>Quest Global</td>\n",
       "    </tr>\n",
       "    <tr>\n",
       "      <th>17</th>\n",
       "      <td>ACN - Applied Intelligence - Data Scientist - 09</td>\n",
       "      <td>Accenture</td>\n",
       "    </tr>\n",
       "    <tr>\n",
       "      <th>18</th>\n",
       "      <td>Data Scientist - 2</td>\n",
       "      <td>24 7 ai</td>\n",
       "    </tr>\n",
       "    <tr>\n",
       "      <th>19</th>\n",
       "      <td>Data Scientist</td>\n",
       "      <td>HCLTech</td>\n",
       "    </tr>\n",
       "  </tbody>\n",
       "</table>\n",
       "</div>"
      ],
      "text/plain": [
       "                                            Job Title                  Company\n",
       "0                    Analystics & Modeling Specialist                Accenture\n",
       "1                    Assistant Manager - Data Science               Citiustech\n",
       "2                               Senior Data Scientist                    Wipro\n",
       "3                          Program Manager, Analytics                     Uber\n",
       "4      Data Scientist - Looking For Immediate Joiners                    Wipro\n",
       "5                                      Data Scientist                   Altair\n",
       "6                               Senior Data Scientist  Boston Consulting Group\n",
       "7                                 Data Scientist - II                  Bizongo\n",
       "8                                   Lead ML Scientist        Fractal Analytics\n",
       "9                               Senior Data Scientist             Baker Hughes\n",
       "10  Python Programming Language Data Science Pract...                Accenture\n",
       "11                  Industry X - Software Engineering                Accenture\n",
       "12            Data Scientist: Artificial Intelligence                      IBM\n",
       "13  ACN - Applied Intelligence - C4DI - Sustainabi...                Accenture\n",
       "14                                     Data Scientist        Applied Materials\n",
       "15                                     Data Scientist        Applied Materials\n",
       "16                                     Data Scientist             Quest Global\n",
       "17   ACN - Applied Intelligence - Data Scientist - 09                Accenture\n",
       "18                                 Data Scientist - 2                  24 7 ai\n",
       "19                                     Data Scientist                  HCLTech"
      ]
     },
     "execution_count": 39,
     "metadata": {},
     "output_type": "execute_result"
    }
   ],
   "source": [
    "jobs"
   ]
  },
  {
   "cell_type": "code",
   "execution_count": 47,
   "metadata": {},
   "outputs": [],
   "source": [
    "url = 'https://www.flipkart.com/'\n",
    "driver.get(url)"
   ]
  },
  {
   "cell_type": "code",
   "execution_count": 50,
   "metadata": {},
   "outputs": [],
   "source": [
    "search_items = driver.find_element(By.CLASS_NAME,\"_3704LK\")\n",
    "search_items.send_keys(\"sunglasses\")"
   ]
  },
  {
   "cell_type": "code",
   "execution_count": 58,
   "metadata": {},
   "outputs": [],
   "source": [
    "search_btn = driver.find_element(By.CLASS_NAME, \"L0Z3Pu\")\n",
    "search_btn.click()"
   ]
  },
  {
   "cell_type": "code",
   "execution_count": 60,
   "metadata": {},
   "outputs": [],
   "source": [
    "search_btn = driver.find_element(By.XPATH, \"/html/body/div[1]/div/div[3]/div[1]/div[2]/div[12]/div/div/nav/a[11]/span\")\n",
    "search_btn.click()"
   ]
  },
  {
   "cell_type": "code",
   "execution_count": 66,
   "metadata": {},
   "outputs": [],
   "source": [
    "search_items=[]\n",
    "starts = 0\n",
    "ends = 100\n",
    "for page in range(starts,ends):\n",
    "    items=driver.find_elements(By.XPATH, \"//a[@class ='IRpwTa _2-ICcC']\")\n",
    "for i in search_items:\n",
    "    search_items.append(i.text)\n",
    "    search_items    "
   ]
  },
  {
   "cell_type": "code",
   "execution_count": 67,
   "metadata": {},
   "outputs": [
    {
     "data": {
      "text/plain": [
       "0"
      ]
     },
     "execution_count": 67,
     "metadata": {},
     "output_type": "execute_result"
    }
   ],
   "source": [
    "len(search_items)"
   ]
  },
  {
   "cell_type": "code",
   "execution_count": null,
   "metadata": {},
   "outputs": [],
   "source": []
  }
 ],
 "metadata": {
  "kernelspec": {
   "display_name": "Python 3",
   "language": "python",
   "name": "python3"
  },
  "language_info": {
   "codemirror_mode": {
    "name": "ipython",
    "version": 3
   },
   "file_extension": ".py",
   "mimetype": "text/x-python",
   "name": "python",
   "nbconvert_exporter": "python",
   "pygments_lexer": "ipython3",
   "version": "3.8.5"
  }
 },
 "nbformat": 4,
 "nbformat_minor": 4
}
